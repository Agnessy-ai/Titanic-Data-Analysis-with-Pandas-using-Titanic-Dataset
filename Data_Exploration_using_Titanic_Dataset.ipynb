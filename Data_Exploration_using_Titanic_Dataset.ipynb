{
  "nbformat": 4,
  "nbformat_minor": 0,
  "metadata": {
    "colab": {
      "provenance": []
    },
    "kernelspec": {
      "name": "python3",
      "display_name": "Python 3"
    },
    "language_info": {
      "name": "python"
    }
  },
  "cells": [
    {
      "cell_type": "code",
      "execution_count": null,
      "metadata": {
        "id": "do7B2o5dHoa0"
      },
      "outputs": [],
      "source": [
        "import pandas as pd\n",
        "import matplotlib.pyplot as plt\n",
        "import seaborn as sns\n",
        "\n",
        "# Load dataset (CSV file)\n",
        "data = pd.read_csv(\"titanic.csv\")\n",
        "\n",
        "# Display first 5 rows to understand data structure\n",
        "print(\"Sample data:\")\n",
        "print(data.head())\n",
        "\n",
        "# Data overview: types, missing values\n",
        "print(\"\\nData info:\")\n",
        "print(data.info())\n",
        "\n",
        "# Summary statistics for numerical columns\n",
        "print(\"\\nSummary statistics:\")\n",
        "print(data.describe())\n",
        "\n",
        "# Check for missing values\n",
        "print(\"\\nMissing values per column:\")\n",
        "print(data.isnull().sum())\n",
        "\n",
        "# Fill missing values for 'Age' with median age\n",
        "data['Age'].fillna(data['Age'].median(), inplace=True)\n",
        "\n",
        "# Fill missing 'Embarked' values with most frequent port\n",
        "data['Embarked'].fillna(data['Embarked'].mode()[0], inplace=True)\n",
        "\n",
        "# Drop 'Cabin' column due to too many missing values\n",
        "data.drop(columns=['Cabin'], inplace=True)\n",
        "\n",
        "# Verify cleaning\n",
        "print(\"\\nAfter cleaning missing data:\")\n",
        "print(data.isnull().sum())\n",
        "\n",
        "# Basic survival rate\n",
        "survival_rate = data['Survived'].mean()\n",
        "print(f\"\\nOverall survival rate: {survival_rate:.2%}\")\n",
        "\n",
        "# Survival by gender\n",
        "print(\"\\nSurvival rates by gender:\")\n",
        "print(data.groupby('Sex')['Survived'].mean())\n",
        "\n",
        "# Visualization 1: Survival count by gender\n",
        "sns.countplot(x='Sex', hue='Survived', data=data)\n",
        "plt.title('Survival Counts by Gender')\n",
        "plt.show()\n",
        "\n",
        "# Visualization 2: Age distribution by survival\n",
        "sns.histplot(data=data, x='Age', hue='Survived', kde=True, multiple='stack')\n",
        "plt.title('Age Distribution by Survival')\n",
        "plt.show()\n",
        "\n",
        "# Visualization 3: Survival rate by passenger class (Pclass)\n",
        "sns.barplot(x='Pclass', y='Survived', data=data)\n",
        "plt.title('Survival Rate by Passenger Class')\n",
        "plt.show()\n"
      ]
    }
  ]
}